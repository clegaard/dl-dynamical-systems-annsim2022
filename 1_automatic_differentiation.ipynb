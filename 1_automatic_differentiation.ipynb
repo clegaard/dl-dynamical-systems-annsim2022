{
 "cells": [
  {
   "cell_type": "code",
   "execution_count": null,
   "id": "6fa1523b-f0cb-46fb-bd24-bdb9653eb81a",
   "metadata": {},
   "outputs": [],
   "source": []
  }
 ],
 "metadata": {
  "kernelspec": {
   "display_name": "Python 3 (ipykernel)",
   "language": "python",
   "name": "python3"
  },
  "language_info": {
   "codemirror_mode": {
    "name": "ipython",
    "version": 3
   },
   "file_extension": ".py",
   "mimetype": "text/x-python",
   "name": "python",
   "nbconvert_exporter": "python",
   "pygments_lexer": "ipython3",
   "version": "3.10.5"
  }
 },
 "nbformat": 4,
 "nbformat_minor": 5
}
