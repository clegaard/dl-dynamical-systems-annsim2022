{
 "cells": [
  {
   "cell_type": "code",
   "execution_count": 1,
   "id": "6f9240c4-581d-40fd-849b-b3a8f31f7d4d",
   "metadata": {},
   "outputs": [],
   "source": [
    "import jax.numpy as jnp\n",
    "from jax import grad, jit, vmap\n",
    "from jax.lax import scan\n",
    "from jax import random\n",
    "\n",
    "\n",
    "from turtle import color\n",
    "from tqdm import tqdm\n",
    "import matplotlib.pyplot as plt"
   ]
  },
  {
   "cell_type": "code",
   "execution_count": null,
   "id": "7c584f1c-2227-412e-b635-0190a5b78a4e",
   "metadata": {},
   "outputs": [
    {
     "name": "stderr",
     "output_type": "stream",
     "text": [
      "5000it [00:03, 1425.68it/s]\n"
     ]
    },
    {
     "name": "stdout",
     "output_type": "stream",
     "text": [
      "CPU times: total: 4.23 s\n",
      "Wall time: 4.28 s\n"
     ]
    },
    {
     "name": "stderr",
     "output_type": "stream",
     "text": [
      "5000it [01:00, 82.71it/s] \n"
     ]
    }
   ],
   "source": [
    "def solve_euler(f, t, x0):\n",
    "    ΔT = t[1:] - t[:-1]\n",
    "    x_cur = x0\n",
    "    X = [x_cur]\n",
    "\n",
    "    for t, Δt in tqdm(zip(t[1:], ΔT)):\n",
    "        dy = f(t, x_cur)\n",
    "        x_new = x_cur + Δt * dy\n",
    "        X.append(x_new)\n",
    "        x_cur = x_new\n",
    "\n",
    "    return jnp.stack(X, axis=1)\n",
    "\n",
    "\n",
    "def f(t, x):\n",
    "    x, y = x\n",
    "    dx = α * x - β * x * y\n",
    "    dy = δ * x * y - γ * y\n",
    "    return jnp.array((dx, dy))\n",
    "\n",
    "\n",
    "\n",
    "h = 0.001\n",
    "t_start = 0.0\n",
    "t_end = 5.0\n",
    "t = jnp.arange(t_start, t_end + h, h)\n",
    "x0 = 2.0\n",
    "y0 = 1.0\n",
    "α = 1.0\n",
    "β = 1.0\n",
    "γ = 1.0\n",
    "δ = 1.0\n",
    "\n",
    "xy0 = jnp.array((x0, y0))\n",
    "\n",
    "# %timeit jit(f)\n",
    "\n",
    "# f_jit = jit(f)\n",
    "\n",
    "# %timeit f(0.0, xy0)\n",
    "# %timeit f_jit(0.0,xy0)\n",
    "\n",
    "solve_euler_jit = jit(solve_euler,static_argnames=[\"f\"])\n",
    "\n",
    "\n",
    "%time solve_euler(f,t,xy0)\n",
    "%time solve_euler_jit(f,t,xy0)"
   ]
  },
  {
   "cell_type": "code",
   "execution_count": null,
   "id": "d80c09ab-3413-4d05-a54d-afc5d2e5a079",
   "metadata": {},
   "outputs": [],
   "source": [
    "def solve_euler_scan(f, t, x0):\n",
    "    def f_scan((t_cur,x_cur), slice):\n",
    "        dydt = f(\n",
    "            t_cur,x_cur\n",
    "        )\n",
    "        return x_cur + dydt\n",
    "\n",
    "    _, X = scan(f, x0)\n",
    "    return X\n",
    "\n",
    "\n",
    "def f(t, x):\n",
    "    x, y = x\n",
    "    dx = α * x - β * x * y\n",
    "    dy = δ * x * y - γ * y\n",
    "    return jnp.array((dx, dy))"
   ]
  }
 ],
 "metadata": {
  "kernelspec": {
   "display_name": "Python 3 (ipykernel)",
   "language": "python",
   "name": "python3"
  },
  "language_info": {
   "codemirror_mode": {
    "name": "ipython",
    "version": 3
   },
   "file_extension": ".py",
   "mimetype": "text/x-python",
   "name": "python",
   "nbconvert_exporter": "python",
   "pygments_lexer": "ipython3",
   "version": "3.10.5"
  }
 },
 "nbformat": 4,
 "nbformat_minor": 5
}
