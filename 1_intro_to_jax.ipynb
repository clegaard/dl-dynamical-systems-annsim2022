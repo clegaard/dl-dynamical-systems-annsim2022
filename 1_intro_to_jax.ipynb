{
 "cells": [
  {
   "cell_type": "code",
   "execution_count": 6,
   "metadata": {},
   "outputs": [],
   "source": [
    "from jax import grad, vmap, jit\n",
    "from jax import make_jaxpr\n",
    "import jax.numpy as jnp\n",
    "import matplotlib.pyplot as plt"
   ]
  },
  {
   "cell_type": "markdown",
   "metadata": {},
   "source": [
    "# Differentiation\n",
    "The derivative of a function in jax is obtained by applying the `grad` function to the original function.\n",
    "The result of this is a new function that can be evaluated for a choice of x."
   ]
  },
  {
   "cell_type": "code",
   "execution_count": 7,
   "metadata": {},
   "outputs": [
    {
     "name": "stdout",
     "output_type": "stream",
     "text": [
      "∇f(0) is 1.0\n"
     ]
    },
    {
     "data": {
      "image/png": "[encoded data removed]",
      "text/plain": [
       "<Figure size 432x288 with 1 Axes>"
      ]
     },
     "metadata": {
      "needs_background": "light"
     },
     "output_type": "display_data"
    }
   ],
   "source": [
    "def f(x):\n",
    "    return jnp.tanh(x)\n",
    "\n",
    "dfdx = grad(f)\n",
    "x = jnp.arange(-3.0, 3.0, 0.001)\n",
    "\n",
    "fig, ax = plt.subplots()\n",
    "ax.plot(x, f(x), label=\"f(x)\")\n",
    "\n",
    "print(f\"∇f(0) is {grad(f)(0.0)}\")"
   ]
  },
  {
   "cell_type": "markdown",
   "metadata": {},
   "source": [
    "Under the hood the `grad` function creates a new function. \n",
    "The first time this function is evaluated with an input, a placeholder value that records all the mathematical operations carried out in the function body.\n",
    "The operations are recorded in `jaxpr` format, that can be viewed using the `make_jaxpr` function."
   ]
  },
  {
   "cell_type": "code",
   "execution_count": 22,
   "metadata": {},
   "outputs": [
    {
     "name": "stdout",
     "output_type": "stream",
     "text": [
      "{ \u001b[34m\u001b[22m\u001b[1mlambda \u001b[39m\u001b[22m\u001b[22m; a\u001b[35m:f32[]\u001b[39m. \u001b[34m\u001b[22m\u001b[1mlet\u001b[39m\u001b[22m\u001b[22m b\u001b[35m:f32[]\u001b[39m = tanh a \u001b[34m\u001b[22m\u001b[1min \u001b[39m\u001b[22m\u001b[22m(b,) }\n",
      "{ \u001b[34m\u001b[22m\u001b[1mlambda \u001b[39m\u001b[22m\u001b[22m; a\u001b[35m:f32[]\u001b[39m. \u001b[34m\u001b[22m\u001b[1mlet\n",
      "    \u001b[39m\u001b[22m\u001b[22mb\u001b[35m:f32[]\u001b[39m = tanh a\n",
      "    c\u001b[35m:f32[]\u001b[39m = sub 1.0 b\n",
      "    d\u001b[35m:f32[]\u001b[39m = mul 1.0 c\n",
      "    e\u001b[35m:f32[]\u001b[39m = mul d b\n",
      "    f\u001b[35m:f32[]\u001b[39m = add_any d e\n",
      "  \u001b[34m\u001b[22m\u001b[1min \u001b[39m\u001b[22m\u001b[22m(f,) }\n"
     ]
    }
   ],
   "source": [
    "print(make_jaxpr(f)(0.0))\n",
    "print(make_jaxpr(grad(f))(0.0))"
   ]
  },
  {
   "cell_type": "markdown",
   "metadata": {},
   "source": [
    "Evaluating the grad function with a vector of values gives us an error since the gradient is only defined for scalar valued functions."
   ]
  },
  {
   "cell_type": "code",
   "execution_count": 15,
   "metadata": {},
   "outputs": [
    {
     "ename": "TypeError",
     "evalue": "Gradient only defined for scalar-output functions. Output had shape: (6000,).",
     "output_type": "error",
     "traceback": [
      "\u001b[1;31m---------------------------------------------------------------------------\u001b[0m",
      "\u001b[1;31mTypeError\u001b[0m                                 Traceback (most recent call last)",
      "\u001b[1;32mc:\\repos\\dl_and_dynamical_systems_annsim2022\\1_intro_to_jax.ipynb Cell 7\u001b[0m in \u001b[0;36m<cell line: 1>\u001b[1;34m()\u001b[0m\n\u001b[1;32m----> <a href='vscode-notebook-cell:/c%3A/repos/dl_and_dynamical_systems_annsim2022/1_intro_to_jax.ipynb#ch0000010?line=0'>1</a>\u001b[0m grad(f)(x)\n",
      "    \u001b[1;31m[... skipping hidden 4 frame]\u001b[0m\n",
      "File \u001b[1;32mc:\\repos\\dl_and_dynamical_systems_annsim2022\\venv\\lib\\site-packages\\jax\\_src\\api.py:1087\u001b[0m, in \u001b[0;36m_check_scalar\u001b[1;34m(x)\u001b[0m\n\u001b[0;32m   1085\u001b[0m \u001b[39mif\u001b[39;00m \u001b[39misinstance\u001b[39m(aval, ShapedArray):\n\u001b[0;32m   1086\u001b[0m   \u001b[39mif\u001b[39;00m aval\u001b[39m.\u001b[39mshape \u001b[39m!=\u001b[39m ():\n\u001b[1;32m-> 1087\u001b[0m     \u001b[39mraise\u001b[39;00m \u001b[39mTypeError\u001b[39;00m(msg(\u001b[39mf\u001b[39m\u001b[39m\"\u001b[39m\u001b[39mhad shape: \u001b[39m\u001b[39m{\u001b[39;00maval\u001b[39m.\u001b[39mshape\u001b[39m}\u001b[39;00m\u001b[39m\"\u001b[39m))\n\u001b[0;32m   1088\u001b[0m \u001b[39melse\u001b[39;00m:\n\u001b[0;32m   1089\u001b[0m   \u001b[39mraise\u001b[39;00m \u001b[39mTypeError\u001b[39;00m(msg(\u001b[39mf\u001b[39m\u001b[39m\"\u001b[39m\u001b[39mhad abstract value \u001b[39m\u001b[39m{\u001b[39;00maval\u001b[39m}\u001b[39;00m\u001b[39m\"\u001b[39m))\n",
      "\u001b[1;31mTypeError\u001b[0m: Gradient only defined for scalar-output functions. Output had shape: (6000,)."
     ]
    }
   ],
   "source": [
    "grad(f)(x)"
   ]
  },
  {
   "cell_type": "markdown",
   "metadata": {},
   "source": [
    "# Automatic vectorization \n",
    "Code written in Numpy often relies on the reshaping arrays to leverage broadcasting rules in order for the code to run on several stacked inputs at once.\n",
    "The benefit is that the code typically runs much faster than iterating over the leading dimension using a for loop in Python.\n",
    "The drawback of this is that the implementation of a batched function is much harder to understand than the elementwise version.\n",
    "\n"
   ]
  },
  {
   "cell_type": "code",
   "execution_count": 18,
   "metadata": {},
   "outputs": [
    {
     "data": {
      "text/plain": [
       "[<matplotlib.lines.Line2D at 0x251ce601900>]"
      ]
     },
     "execution_count": 18,
     "metadata": {},
     "output_type": "execute_result"
    },
    {
     "data": {
      "image/png": "[encoded data removed]",
      "text/plain": [
       "<Figure size 432x288 with 1 Axes>"
      ]
     },
     "metadata": {
      "needs_background": "light"
     },
     "output_type": "display_data"
    }
   ],
   "source": [
    "plt.plot(x,f(x))\n",
    "plt.plot(x,vmap(grad(f))(x))"
   ]
  },
  {
   "cell_type": "markdown",
   "metadata": {},
   "source": [
    "Inspecting the `jaxpr` we see that the vmap has created a specialized version of the function that takes as an argument."
   ]
  },
  {
   "cell_type": "code",
   "execution_count": 29,
   "metadata": {},
   "outputs": [
    {
     "name": "stdout",
     "output_type": "stream",
     "text": [
      "{ \u001b[34m\u001b[22m\u001b[1mlambda \u001b[39m\u001b[22m\u001b[22m; a\u001b[35m:f32[6000]\u001b[39m. \u001b[34m\u001b[22m\u001b[1mlet\n",
      "    \u001b[39m\u001b[22m\u001b[22mb\u001b[35m:f32[6000]\u001b[39m = tanh a\n",
      "    c\u001b[35m:f32[6000]\u001b[39m = sub 1.0 b\n",
      "    d\u001b[35m:f32[6000]\u001b[39m = mul 1.0 c\n",
      "    e\u001b[35m:f32[6000]\u001b[39m = mul d b\n",
      "    f\u001b[35m:f32[6000]\u001b[39m = add_any d e\n",
      "  \u001b[34m\u001b[22m\u001b[1min \u001b[39m\u001b[22m\u001b[22m(f,) }\n"
     ]
    }
   ],
   "source": [
    "print(make_jaxpr(vmap(grad(f)))(x))"
   ]
  },
  {
   "cell_type": "markdown",
   "metadata": {},
   "source": [
    "# Regression example\n",
    "\n",
    "Consider the following regression 1-D regression problem\n",
    "$\n",
    "y(x) = a x + b + \\epsilon\n",
    "$\n",
    "where $\\epsilon \\sim \\mathcal{N}(0,1)$\n",
    "\n",
    "Using Jax we will estimate the parameters $a$ and $b$ from the data."
   ]
  },
  {
   "cell_type": "code",
   "execution_count": 39,
   "metadata": {},
   "outputs": [
    {
     "data": {
      "text/plain": [
       "Text(0, 0.5, 'f(x)')"
      ]
     },
     "execution_count": 39,
     "metadata": {},
     "output_type": "execute_result"
    },
    {
     "data": {
      "image/png": "[encoded data removed]",
      "text/plain": [
       "<Figure size 432x288 with 1 Axes>"
      ]
     },
     "metadata": {
      "needs_background": "light"
     },
     "output_type": "display_data"
    }
   ],
   "source": [
    "from jax import random\n",
    "key = random.PRNGKey(1)\n",
    "\n",
    "a = 1.0\n",
    "b = 2.0\n",
    "\n",
    "e = random.normal(key,x.shape)*1e-1\n",
    "y = a*x + b + e\n",
    "fig, ax = plt.subplots()\n",
    "\n",
    "ax.plot(x,y)\n",
    "ax.set_xlabel(\"x\")\n",
    "ax.set_ylabel(\"f(x)\")"
   ]
  },
  {
   "cell_type": "markdown",
   "metadata": {},
   "source": []
  }
 ],
 "metadata": {
  "kernelspec": {
   "display_name": "Python 3.10.5 ('venv': venv)",
   "language": "python",
   "name": "python3"
  },
  "language_info": {
   "codemirror_mode": {
    "name": "ipython",
    "version": 3
   },
   "file_extension": ".py",
   "mimetype": "text/x-python",
   "name": "python",
   "nbconvert_exporter": "python",
   "pygments_lexer": "ipython3",
   "version": "3.10.5"
  },
  "orig_nbformat": 4,
  "vscode": {
   "interpreter": {
    "hash": "33db3ce30693f3a575813ba4d73b30f6ad7b1b99ad2056e8a7a4a4cdc585cdea"
   }
  }
 },
 "nbformat": 4,
 "nbformat_minor": 2
}
